{
 "cells": [
  {
   "cell_type": "code",
   "execution_count": 44,
   "metadata": {},
   "outputs": [],
   "source": [
    "from selenium import webdriver\n",
    "from selenium.webdriver.common import keys\n",
    "import time\n",
    "from selenium.common.exceptions import TimeoutException\n",
    "from selenium.webdriver.support.ui import WebDriverWait\n",
    "from selenium.webdriver.support import expected_conditions as EC\n",
    "from selenium.webdriver import ActionChains\n",
    "from selenium.webdriver.common.keys import Keys\n",
    "import random\n",
    "import string\n",
    "import names\n",
    "import numpy as np\n",
    "import requests\n",
    "import shutil\n",
    "from bs4 import BeautifulSoup as bs\n",
    "import urllib"
   ]
  },
  {
   "cell_type": "code",
   "execution_count": 62,
   "metadata": {},
   "outputs": [],
   "source": [
    "class Data:\n",
    "    def __init__(self):\n",
    "        home = 'https://www.google.com/'\n",
    "        EmailRegistrationForm = \"https://signup.live.com/signup?lcid=1033&wa=wsignin1.0&rpsnv=13&ct=1576722757&rver=7.0.6737.0&wp=MBI_SSL&wreply=https%3a%2f%2foutlook.live.com%2fowa%2f%3fnlp%3d1%26signup%3d1%26RpsCsrfState%3d2680556d-3e72-a3e4-0e5c-4caea41e4f29&id=292841&CBCXT=out&lw=1&fl=dob%2cflname%2cwld&cobrandid=90015&lic=1&uaid=482461d254374b33ae9df20fb4e67175\"\n",
    "        self.driver = webdriver.Firefox()\n",
    "        self.driver.get(EmailRegistrationForm)\n",
    "        username = self.GenerateUsername()\n",
    "        password=self.GeneratePassword()\n",
    "        fname= names.get_first_name()\n",
    "        lname= names.get_last_name()\n",
    "        self.lname= names.get_last_name()\n",
    "        self.driver.find_element_by_xpath('//*[@id=\"MemberName\"]').send_keys(username)\n",
    "        self.driver.find_element_by_xpath('//*[@id=\"iSignupAction\"]').click()\n",
    "        time.sleep(2)\n",
    "        self.driver.find_element_by_xpath('//*[@id=\"PasswordInput\"]').send_keys(password)\n",
    "        self.driver.find_element_by_xpath('//*[@id=\"iSignupAction\"]').click()\n",
    "        time.sleep(2)\n",
    "        self.driver.find_element_by_xpath('//*[@id=\"FirstName\"]').send_keys(fname)\n",
    "        self.driver.find_element_by_xpath('//*[@id=\"LastName\"]').send_keys(lname)\n",
    "        self.driver.find_element_by_xpath('//*[@id=\"iSignupAction\"]').click()\n",
    "        time.sleep(3)\n",
    "        self.driver.find_element_by_xpath('//*[@id=\"BirthMonth\"]').send_keys(\"July\")\n",
    "        self.driver.find_element_by_xpath('//*[@id=\"BirthYear\"]').send_keys(\"2002\")\n",
    "        self.driver.find_element_by_xpath('//*[@id=\"BirthDay\"]').send_keys(\"11\")\n",
    "        self.driver.find_element_by_xpath('//*[@id=\"iSignupAction\"]').click()\n",
    "        \n",
    "    def GenerateUsername(self):\n",
    "        x = random.randint(0,25)\n",
    "        username = \"NeverGoingToGi\"+str(random.randint(1000,10000)) + string.ascii_uppercase[x]\n",
    "        return username\n",
    "    def GeneratePassword(self):\n",
    "        password = \"\"\n",
    "        for i in np.arange(10):\n",
    "            password += string.ascii_letters[random.randint(0,35)]\n",
    "        password += \"@!#$%&\"[random.randint(0,5)]\n",
    "        for i in np.arange(10):\n",
    "            password += str(random.randint(0,9))\n",
    "        return password\n",
    "    def GetCaptchaImage(self, dirname):\n",
    "        #x = self.driver.find_element_by_xpath('//*[@id=\"wlspispHIPBimg0126f9c67b89d43eea5aeb4b530ed619e0\"]')\n",
    "        \n",
    "        for i in self.driver.find_elements_by_tag_name('img'):\n",
    "            url = requests.get(self.driver.current_url + i.get_attribute('src'), stream=True)\n",
    "            index=0\n",
    "            with open(f'{dirname}/img_{index}.jpg'.format(dirname=dirname, suffix=index), 'wb') as out_file:\n",
    "                shutil.copyfileobj(url.raw, out_file)\n",
    "                index+1\n",
    "            actionChains = ActionChains(self.driver)\n",
    "            actionChains.move_to_element(i).context_click().send_keys(Keys.ARROW_DOWN).send_keys(Keys.ARROW_DOWN).send_keys(Keys.RETURN).perform()\n",
    "        #self.driver.find_elements_by_tag_name('img').click\n",
    "    def GetCaptchaImage2(self, filename, dirname):\n",
    "        x = self.driver.find_elements_by_tag_name('img')[-1].get_attribute('src')\n",
    "        print(x)\n",
    "        x=requests.get(x)\n",
    "        with open (dirname+filename, 'wb') as f:\n",
    "            f.write(x.content)\n",
    "    def NextClick(self):\n",
    "        self.driver.find_element_by_tag_name('a').click()\n",
    "    def Close(self):\n",
    "        self.driver.close()\n",
    "        \n",
    "            "
   ]
  },
  {
   "cell_type": "code",
   "execution_count": null,
   "metadata": {},
   "outputs": [
    {
     "name": "stdout",
     "output_type": "stream",
     "text": [
      "https://wus.client.hip.live.com/GetHIPData?hid=WUS.abaef19866d24077982c15d83407c220&fid=77d241c87efb42cdae6b827cec7d2e6f&id=15041&type=visual&cs=HIPAMFE\n",
      "https://wus.client.hip.live.com/GetHIPData?hid=WUS.abaef19866d24077982c15d83407c220&fid=77d241c87efb42cdae6b827cec7d2e6f&id=15041&type=visual&cs=HIPAMFE\n",
      "https://wus.client.hip.live.com/GetHIPData?hid=WUS.a86886aaf2ec42039f2e7395223af247&fid=77d241c87efb42cdae6b827cec7d2e6f&id=15041&type=visual&cs=HIPAMFE\n",
      "https://wus.client.hip.live.com/GetHIPData?hid=WUS.140a9432e47d4905bbf2c79555b598e4&fid=77d241c87efb42cdae6b827cec7d2e6f&id=15041&type=visual&cs=HIPAMFE\n",
      "https://wus.client.hip.live.com/GetHIPData?hid=WUS.5266a0fda9894cc2966e35e48d98646d&fid=77d241c87efb42cdae6b827cec7d2e6f&id=15041&type=visual&cs=HIPAMFE\n",
      "https://wus.client.hip.live.com/GetHIPData?hid=WUS.5916074a9211454cbf020459f3c08e2e&fid=77d241c87efb42cdae6b827cec7d2e6f&id=15041&type=visual&cs=HIPAMFE\n",
      "https://wus.client.hip.live.com/GetHIPData?hid=WUS.5916074a9211454cbf020459f3c08e2e&fid=77d241c87efb42cdae6b827cec7d2e6f&id=15041&type=visual&cs=HIPAMFE\n",
      "https://wus.client.hip.live.com/GetHIPData?hid=WUS.7ffe5a8ede3a4ff99878f5d654b8eae8&fid=77d241c87efb42cdae6b827cec7d2e6f&id=15041&type=visual&cs=HIPAMFE\n",
      "https://wus.client.hip.live.com/GetHIPData?hid=WUS.7ffe5a8ede3a4ff99878f5d654b8eae8&fid=77d241c87efb42cdae6b827cec7d2e6f&id=15041&type=visual&cs=HIPAMFE\n",
      "https://wus.client.hip.live.com/GetHIPData?hid=WUS.e1889f1513994522bb4a96a1cf645623&fid=77d241c87efb42cdae6b827cec7d2e6f&id=15041&type=visual&cs=HIPAMFE\n",
      "https://wus.client.hip.live.com/GetHIPData?hid=WUS.d8e9838103a147369f620bf2c24db40d&fid=77d241c87efb42cdae6b827cec7d2e6f&id=15041&type=visual&cs=HIPAMFE\n",
      "https://wus.client.hip.live.com/GetHIPData?hid=WUS.d8e9838103a147369f620bf2c24db40d&fid=77d241c87efb42cdae6b827cec7d2e6f&id=15041&type=visual&cs=HIPAMFE\n",
      "https://wus.client.hip.live.com/GetHIPData?hid=WUS.87017b614a4d41ae994b0cfce98bfddc&fid=77d241c87efb42cdae6b827cec7d2e6f&id=15041&type=visual&cs=HIPAMFE\n",
      "https://wus.client.hip.live.com/GetHIPData?hid=WUS.dd8b377392544bd1ac9d1c218e44e43c&fid=77d241c87efb42cdae6b827cec7d2e6f&id=15041&type=visual&cs=HIPAMFE\n",
      "https://wus.client.hip.live.com/GetHIPData?hid=WUS.39d0ada3ab0f4a18baadb33b8d3a3cfb&fid=77d241c87efb42cdae6b827cec7d2e6f&id=15041&type=visual&cs=HIPAMFE\n",
      "https://wus.client.hip.live.com/GetHIPData?hid=WUS.39d0ada3ab0f4a18baadb33b8d3a3cfb&fid=77d241c87efb42cdae6b827cec7d2e6f&id=15041&type=visual&cs=HIPAMFE\n",
      "https://wus.client.hip.live.com/GetHIPData?hid=WUS.e5fa76dcfb414038808313d366ebee8f&fid=77d241c87efb42cdae6b827cec7d2e6f&id=15041&type=visual&cs=HIPAMFE\n",
      "https://wus.client.hip.live.com/GetHIPData?hid=WUS.894a192e02dc41498cca3c87bacc8861&fid=77d241c87efb42cdae6b827cec7d2e6f&id=15041&type=visual&cs=HIPAMFE\n"
     ]
    }
   ],
   "source": [
    "datum = Data()\n",
    "time.sleep(1)\n",
    "\n",
    "for i in np.arange(10000):\n",
    "    c= str(i)+\".png\"\n",
    "    try:\n",
    "        datum.GetCaptchaImage2(c,\"DataSets\\MicrosoftDataSet\\\\\")\n",
    "        time.sleep(1)\n",
    "        datum.NextClick()\n",
    "    except:\n",
    "        print(\"There was an error here\")\n",
    "        datum.Close()\n",
    "        datum=Data()\n",
    "        time.sleep(2)\n",
    "    \n",
    "                           "
   ]
  },
  {
   "cell_type": "code",
   "execution_count": 47,
   "metadata": {},
   "outputs": [
    {
     "ename": "StaleElementReferenceException",
     "evalue": "Message: The element reference of <img src=\"https://acctcdn.msauth.net/images/Arrows/left_qcwoJO81F7bEFg3Pj_fUEA2.svg\"> is stale; either the element is no longer attached to the DOM, it is not in the current frame context, or the document has been refreshed\n",
     "output_type": "error",
     "traceback": [
      "\u001b[1;31m---------------------------------------------------------------------------\u001b[0m",
      "\u001b[1;31mStaleElementReferenceException\u001b[0m            Traceback (most recent call last)",
      "\u001b[1;32m<ipython-input-47-c7c5ad957fe6>\u001b[0m in \u001b[0;36m<module>\u001b[1;34m\u001b[0m\n\u001b[0;32m      1\u001b[0m \u001b[1;31m#for i in np.arange(100000):\u001b[0m\u001b[1;33m\u001b[0m\u001b[1;33m\u001b[0m\u001b[1;33m\u001b[0m\u001b[0m\n\u001b[1;32m----> 2\u001b[1;33m \u001b[0mdatum\u001b[0m\u001b[1;33m.\u001b[0m\u001b[0mGetCaptchaImage\u001b[0m\u001b[1;33m(\u001b[0m\u001b[1;34m'C:\\\\Users\\\\Charles Richards\\\\Desktop\\\\CapTCHa_Breaker\\\\NoteBook\\\\DataSets\\\\MicrosoftDataSet'\u001b[0m\u001b[1;33m)\u001b[0m\u001b[1;33m\u001b[0m\u001b[1;33m\u001b[0m\u001b[0m\n\u001b[0m\u001b[0;32m      3\u001b[0m \u001b[1;33m\u001b[0m\u001b[0m\n",
      "\u001b[1;32m<ipython-input-45-ccd10886635f>\u001b[0m in \u001b[0;36mGetCaptchaImage\u001b[1;34m(self, dirname)\u001b[0m\n\u001b[0;32m     41\u001b[0m         \u001b[1;31m#x = self.driver.find_element_by_xpath('//*[@id=\"wlspispHIPBimg0126f9c67b89d43eea5aeb4b530ed619e0\"]')\u001b[0m\u001b[1;33m\u001b[0m\u001b[1;33m\u001b[0m\u001b[1;33m\u001b[0m\u001b[0m\n\u001b[0;32m     42\u001b[0m         \u001b[1;32mfor\u001b[0m \u001b[0mi\u001b[0m \u001b[1;32min\u001b[0m \u001b[0mself\u001b[0m\u001b[1;33m.\u001b[0m\u001b[0mdriver\u001b[0m\u001b[1;33m.\u001b[0m\u001b[0mfind_elements_by_tag_name\u001b[0m\u001b[1;33m(\u001b[0m\u001b[1;34m'img'\u001b[0m\u001b[1;33m)\u001b[0m\u001b[1;33m:\u001b[0m\u001b[1;33m\u001b[0m\u001b[1;33m\u001b[0m\u001b[0m\n\u001b[1;32m---> 43\u001b[1;33m             \u001b[0murl\u001b[0m \u001b[1;33m=\u001b[0m \u001b[0mrequests\u001b[0m\u001b[1;33m.\u001b[0m\u001b[0mget\u001b[0m\u001b[1;33m(\u001b[0m\u001b[0mself\u001b[0m\u001b[1;33m.\u001b[0m\u001b[0mdriver\u001b[0m\u001b[1;33m.\u001b[0m\u001b[0mcurrent_url\u001b[0m \u001b[1;33m+\u001b[0m \u001b[0mi\u001b[0m\u001b[1;33m.\u001b[0m\u001b[0mget_attribute\u001b[0m\u001b[1;33m(\u001b[0m\u001b[1;34m'src'\u001b[0m\u001b[1;33m)\u001b[0m\u001b[1;33m,\u001b[0m \u001b[0mstream\u001b[0m\u001b[1;33m=\u001b[0m\u001b[1;32mTrue\u001b[0m\u001b[1;33m)\u001b[0m\u001b[1;33m\u001b[0m\u001b[1;33m\u001b[0m\u001b[0m\n\u001b[0m\u001b[0;32m     44\u001b[0m             \u001b[0mindex\u001b[0m\u001b[1;33m=\u001b[0m\u001b[1;36m0\u001b[0m\u001b[1;33m\u001b[0m\u001b[1;33m\u001b[0m\u001b[0m\n\u001b[0;32m     45\u001b[0m             \u001b[1;32mwith\u001b[0m \u001b[0mopen\u001b[0m\u001b[1;33m(\u001b[0m\u001b[1;34mf'{dirname}/img_{index}.jpg'\u001b[0m\u001b[1;33m.\u001b[0m\u001b[0mformat\u001b[0m\u001b[1;33m(\u001b[0m\u001b[0mdirname\u001b[0m\u001b[1;33m=\u001b[0m\u001b[0mdirname\u001b[0m\u001b[1;33m,\u001b[0m \u001b[0msuffix\u001b[0m\u001b[1;33m=\u001b[0m\u001b[0mindex\u001b[0m\u001b[1;33m)\u001b[0m\u001b[1;33m,\u001b[0m \u001b[1;34m'wb'\u001b[0m\u001b[1;33m)\u001b[0m \u001b[1;32mas\u001b[0m \u001b[0mout_file\u001b[0m\u001b[1;33m:\u001b[0m\u001b[1;33m\u001b[0m\u001b[1;33m\u001b[0m\u001b[0m\n",
      "\u001b[1;32mC:\\Anaconda3\\lib\\site-packages\\selenium\\webdriver\\remote\\webelement.py\u001b[0m in \u001b[0;36mget_attribute\u001b[1;34m(self, name)\u001b[0m\n\u001b[0;32m    139\u001b[0m             attributeValue = self.parent.execute_script(\n\u001b[0;32m    140\u001b[0m                 \u001b[1;34m\"return (%s).apply(null, arguments);\"\u001b[0m \u001b[1;33m%\u001b[0m \u001b[0mgetAttribute_js\u001b[0m\u001b[1;33m,\u001b[0m\u001b[1;33m\u001b[0m\u001b[1;33m\u001b[0m\u001b[0m\n\u001b[1;32m--> 141\u001b[1;33m                 self, name)\n\u001b[0m\u001b[0;32m    142\u001b[0m         \u001b[1;32melse\u001b[0m\u001b[1;33m:\u001b[0m\u001b[1;33m\u001b[0m\u001b[1;33m\u001b[0m\u001b[0m\n\u001b[0;32m    143\u001b[0m             \u001b[0mresp\u001b[0m \u001b[1;33m=\u001b[0m \u001b[0mself\u001b[0m\u001b[1;33m.\u001b[0m\u001b[0m_execute\u001b[0m\u001b[1;33m(\u001b[0m\u001b[0mCommand\u001b[0m\u001b[1;33m.\u001b[0m\u001b[0mGET_ELEMENT_ATTRIBUTE\u001b[0m\u001b[1;33m,\u001b[0m \u001b[1;33m{\u001b[0m\u001b[1;34m'name'\u001b[0m\u001b[1;33m:\u001b[0m \u001b[0mname\u001b[0m\u001b[1;33m}\u001b[0m\u001b[1;33m)\u001b[0m\u001b[1;33m\u001b[0m\u001b[1;33m\u001b[0m\u001b[0m\n",
      "\u001b[1;32mC:\\Anaconda3\\lib\\site-packages\\selenium\\webdriver\\remote\\webdriver.py\u001b[0m in \u001b[0;36mexecute_script\u001b[1;34m(self, script, *args)\u001b[0m\n\u001b[0;32m    634\u001b[0m         return self.execute(command, {\n\u001b[0;32m    635\u001b[0m             \u001b[1;34m'script'\u001b[0m\u001b[1;33m:\u001b[0m \u001b[0mscript\u001b[0m\u001b[1;33m,\u001b[0m\u001b[1;33m\u001b[0m\u001b[1;33m\u001b[0m\u001b[0m\n\u001b[1;32m--> 636\u001b[1;33m             'args': converted_args})['value']\n\u001b[0m\u001b[0;32m    637\u001b[0m \u001b[1;33m\u001b[0m\u001b[0m\n\u001b[0;32m    638\u001b[0m     \u001b[1;32mdef\u001b[0m \u001b[0mexecute_async_script\u001b[0m\u001b[1;33m(\u001b[0m\u001b[0mself\u001b[0m\u001b[1;33m,\u001b[0m \u001b[0mscript\u001b[0m\u001b[1;33m,\u001b[0m \u001b[1;33m*\u001b[0m\u001b[0margs\u001b[0m\u001b[1;33m)\u001b[0m\u001b[1;33m:\u001b[0m\u001b[1;33m\u001b[0m\u001b[1;33m\u001b[0m\u001b[0m\n",
      "\u001b[1;32mC:\\Anaconda3\\lib\\site-packages\\selenium\\webdriver\\remote\\webdriver.py\u001b[0m in \u001b[0;36mexecute\u001b[1;34m(self, driver_command, params)\u001b[0m\n\u001b[0;32m    319\u001b[0m         \u001b[0mresponse\u001b[0m \u001b[1;33m=\u001b[0m \u001b[0mself\u001b[0m\u001b[1;33m.\u001b[0m\u001b[0mcommand_executor\u001b[0m\u001b[1;33m.\u001b[0m\u001b[0mexecute\u001b[0m\u001b[1;33m(\u001b[0m\u001b[0mdriver_command\u001b[0m\u001b[1;33m,\u001b[0m \u001b[0mparams\u001b[0m\u001b[1;33m)\u001b[0m\u001b[1;33m\u001b[0m\u001b[1;33m\u001b[0m\u001b[0m\n\u001b[0;32m    320\u001b[0m         \u001b[1;32mif\u001b[0m \u001b[0mresponse\u001b[0m\u001b[1;33m:\u001b[0m\u001b[1;33m\u001b[0m\u001b[1;33m\u001b[0m\u001b[0m\n\u001b[1;32m--> 321\u001b[1;33m             \u001b[0mself\u001b[0m\u001b[1;33m.\u001b[0m\u001b[0merror_handler\u001b[0m\u001b[1;33m.\u001b[0m\u001b[0mcheck_response\u001b[0m\u001b[1;33m(\u001b[0m\u001b[0mresponse\u001b[0m\u001b[1;33m)\u001b[0m\u001b[1;33m\u001b[0m\u001b[1;33m\u001b[0m\u001b[0m\n\u001b[0m\u001b[0;32m    322\u001b[0m             response['value'] = self._unwrap_value(\n\u001b[0;32m    323\u001b[0m                 response.get('value', None))\n",
      "\u001b[1;32mC:\\Anaconda3\\lib\\site-packages\\selenium\\webdriver\\remote\\errorhandler.py\u001b[0m in \u001b[0;36mcheck_response\u001b[1;34m(self, response)\u001b[0m\n\u001b[0;32m    240\u001b[0m                 \u001b[0malert_text\u001b[0m \u001b[1;33m=\u001b[0m \u001b[0mvalue\u001b[0m\u001b[1;33m[\u001b[0m\u001b[1;34m'alert'\u001b[0m\u001b[1;33m]\u001b[0m\u001b[1;33m.\u001b[0m\u001b[0mget\u001b[0m\u001b[1;33m(\u001b[0m\u001b[1;34m'text'\u001b[0m\u001b[1;33m)\u001b[0m\u001b[1;33m\u001b[0m\u001b[1;33m\u001b[0m\u001b[0m\n\u001b[0;32m    241\u001b[0m             \u001b[1;32mraise\u001b[0m \u001b[0mexception_class\u001b[0m\u001b[1;33m(\u001b[0m\u001b[0mmessage\u001b[0m\u001b[1;33m,\u001b[0m \u001b[0mscreen\u001b[0m\u001b[1;33m,\u001b[0m \u001b[0mstacktrace\u001b[0m\u001b[1;33m,\u001b[0m \u001b[0malert_text\u001b[0m\u001b[1;33m)\u001b[0m\u001b[1;33m\u001b[0m\u001b[1;33m\u001b[0m\u001b[0m\n\u001b[1;32m--> 242\u001b[1;33m         \u001b[1;32mraise\u001b[0m \u001b[0mexception_class\u001b[0m\u001b[1;33m(\u001b[0m\u001b[0mmessage\u001b[0m\u001b[1;33m,\u001b[0m \u001b[0mscreen\u001b[0m\u001b[1;33m,\u001b[0m \u001b[0mstacktrace\u001b[0m\u001b[1;33m)\u001b[0m\u001b[1;33m\u001b[0m\u001b[1;33m\u001b[0m\u001b[0m\n\u001b[0m\u001b[0;32m    243\u001b[0m \u001b[1;33m\u001b[0m\u001b[0m\n\u001b[0;32m    244\u001b[0m     \u001b[1;32mdef\u001b[0m \u001b[0m_value_or_default\u001b[0m\u001b[1;33m(\u001b[0m\u001b[0mself\u001b[0m\u001b[1;33m,\u001b[0m \u001b[0mobj\u001b[0m\u001b[1;33m,\u001b[0m \u001b[0mkey\u001b[0m\u001b[1;33m,\u001b[0m \u001b[0mdefault\u001b[0m\u001b[1;33m)\u001b[0m\u001b[1;33m:\u001b[0m\u001b[1;33m\u001b[0m\u001b[1;33m\u001b[0m\u001b[0m\n",
      "\u001b[1;31mStaleElementReferenceException\u001b[0m: Message: The element reference of <img src=\"https://acctcdn.msauth.net/images/Arrows/left_qcwoJO81F7bEFg3Pj_fUEA2.svg\"> is stale; either the element is no longer attached to the DOM, it is not in the current frame context, or the document has been refreshed\n"
     ]
    }
   ],
   "source": [
    "#for i in np.arange(100000):\n",
    "datum.GetCaptchaImage('C:\\\\Users\\\\Charles Richards\\\\Desktop\\\\CapTCHa_Breaker\\\\NoteBook\\\\DataSets\\\\MicrosoftDataSet')\n",
    "    "
   ]
  },
  {
   "cell_type": "code",
   "execution_count": null,
   "metadata": {},
   "outputs": [],
   "source": []
  }
 ],
 "metadata": {
  "kernelspec": {
   "display_name": "Python 3",
   "language": "python",
   "name": "python3"
  },
  "language_info": {
   "codemirror_mode": {
    "name": "ipython",
    "version": 3
   },
   "file_extension": ".py",
   "mimetype": "text/x-python",
   "name": "python",
   "nbconvert_exporter": "python",
   "pygments_lexer": "ipython3",
   "version": "3.7.1"
  }
 },
 "nbformat": 4,
 "nbformat_minor": 2
}
