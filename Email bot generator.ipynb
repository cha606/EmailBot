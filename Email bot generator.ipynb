{
 "cells": [
  {
   "cell_type": "code",
   "execution_count": 53,
   "metadata": {},
   "outputs": [],
   "source": [
    "from selenium import webdriver\n",
    "from selenium.webdriver.common import keys\n",
    "import time\n",
    "from selenium.common.exceptions import TimeoutException\n",
    "from selenium.webdriver.support.ui import WebDriverWait\n",
    "from selenium.webdriver.support import expected_conditions as EC\n",
    "import random\n",
    "import string\n",
    "import names\n",
    "import numpy as np"
   ]
  },
  {
   "cell_type": "code",
   "execution_count": 119,
   "metadata": {},
   "outputs": [],
   "source": [
    "class EmailBot:\n",
    "    def __init__(self, password = 'h', fname='h', lname='h', username='h', phoneNumb=\"h\"):\n",
    "        '''Password must be 6 chars long'''\n",
    "        self.home = 'https://www.google.com/'\n",
    "        self.EmailRegistrationForm = \"https://accounts.google.com/signup/v2/webcreateaccount?service=mail&continue=https%3A%2F%2Fmail.google.com%2Fmail&hl=en&dsh=S469810216%3A1573141739185079&gmb=exp&biz=false&flowName=GlifWebSignIn&flowEntry=SignUp\"\n",
    "        self.driver = webdriver.Firefox() #self.driver\n",
    "        self.driverp = webdriver.Firefox()\n",
    "        self.drivere = webdriver.Firefox()\n",
    "        self.position = \"G Homepage\"\n",
    "        \n",
    "        if fname == 'h':\n",
    "            self.fname= names.get_first_name()\n",
    "        else:\n",
    "            self.fname=fname\n",
    "            print(fname)\n",
    "            \n",
    "        \n",
    "        if lname == 'h':\n",
    "            self.lname= names.get_last_name()\n",
    "        else:\n",
    "            self.lname=lname\n",
    "            \n",
    "        if username=='h':\n",
    "            self.username = self.GenerateUsername()\n",
    "        else:\n",
    "            self.username = username\n",
    "            \n",
    "        if password== 'h':\n",
    "            self.password = self.GeneratePassword()\n",
    "        else:\n",
    "            self.password = password\n",
    "        self.email = self.get_username()+\"@gmail.com\"\n",
    "        self.GeneratePhoneNumber()\n",
    "        \n",
    "        \n",
    "    def OpenBrowes(self):\n",
    "        self.driver.get(self.home)\n",
    "        time.sleep(2)\n",
    "        self.driver.get(self.EmailRegistrationForm)#Im trying this the home to wait to Instagram to make the bot look more human\n",
    "        self.position = \"Email Registration Form\"\n",
    "        \n",
    "    def SignUp(self):\n",
    "        assert self.position == \"Email Registration Form\", \"Where do I sign up?\"\n",
    "        \n",
    "        self.driver.find_element_by_xpath('//*[@id=\"firstName\"]').send_keys(self.fname) #This is the mobile number/ email section\n",
    "        time.sleep(random.randint(3,5))\n",
    "        self.driver.find_element_by_xpath('//*[@id=\"lastName\"]').send_keys(self.lname)\n",
    "        time.sleep(random.randint(3,5))\n",
    "        self.driver.find_element_by_xpath('//*[@id=\"username\"]').send_keys(self.username)\n",
    "        time.sleep(random.randint(3,5))\n",
    "        self.driver.find_element_by_xpath(\"/html/body/div[1]/div/div[2]/div[1]/div[2]/form/div[2]/div/div[1]/div[3]/div[1]/div[3]/div/div/div[1]/div/div[1]/input\").send_keys(self.password)\n",
    "        time.sleep(random.randint(3,5))\n",
    "        self.driver.find_element_by_xpath(\"/html/body/div[1]/div/div[2]/div[1]/div[2]/form/div[2]/div/div[1]/div[3]/div[1]/div[1]/div/div/div[1]/div/div[1]/input\").send_keys(self.password)\n",
    "        time.sleep(random.randint(3,5))\n",
    "        self.driver.find_element_by_xpath(\"/html/body/div[1]/div/div[2]/div[1]/div[2]/form/div[2]/div/div[2]/div[1]/div/span/span\").click()\n",
    "        time.sleep(random.randint(3,5))\n",
    "        self.position = \"Right After Sign Up\"\n",
    "        try:\n",
    "            self.driver.find_element_by_xpath(\"/html/body/div[1]/div/div[2]/div[1]/div[2]/form/div[2]/div/div[2]/div[1]/div/span/span\")\n",
    "        except:\n",
    "            self.position = \"Right After Sign Up\"\n",
    "        self.driverp.close()    \n",
    "        \n",
    "        \n",
    "    def Login(self):\n",
    "        assert self.position == \"Instagram Page\", \"Where do I log in?\"\n",
    "        time.sleep(random.randint(3,5))\n",
    "        self.driver.find_element_by_xpath(\"/html/body/span/section/main/article/div[2]/div[2]/p/a\").click()\n",
    "        time.sleep(random.randint(3,5))\n",
    "        self.position = \"Login Screen\"\n",
    "        self.driver.find_element_by_xpath(\"/html/body/span/section/main/div/article/div/div[1]/div/form/div[2]/div/label/input\").send_keys(self.email)\n",
    "        time.sleep(random.randint(2,8))\n",
    "        self.driver.find_element_by_xpath(\"/html/body/span/section/main/div/article/div/div[1]/div/form/div[3]/div/label/input\").send_keys(self.password)\n",
    "        time.sleep(random.randint(3,9))\n",
    "        self.driver.find_element_by_xpath(\"/html/body/span/section/main/div/article/div/div[1]/div/form/div[4]/button/div\").click()\n",
    "        time.sleep(random.randint(3,5))\n",
    "        self.position = \"Inside Account\"\n",
    "        \n",
    "    def post(self, POST):\n",
    "        assert self.position == \"Inside Account\", \"Post where? Error at post method\"\n",
    "        \n",
    "    \n",
    "    #Generators\n",
    "    def GenerateUsername(self):\n",
    "        x = random.randint(0,25)\n",
    "        print(x)\n",
    "        username = self.get_fname()+str(random.randint(100000,10000000)) + self.get_lname()+ string.ascii_uppercase[x]\n",
    "        return username\n",
    "    def GeneratePassword(self):\n",
    "        password = \"\"\n",
    "        for i in np.arange(10):\n",
    "            password += string.ascii_letters[random.randint(0,35)]\n",
    "        password += \"@!#$%&\"[random.randint(0,5)]\n",
    "        for i in np.arange(10):\n",
    "            password += str(random.randint(0,9))\n",
    "        return password\n",
    "    def GeneratePhoneNumber(self):\n",
    "        self.driverp.get(\"https://tkbyy.com/geturl/QS9zX\")\n",
    "        self.drivere.get(\"https://www.guerrillamail.com/\")\n",
    "        time.sleep(3)\n",
    "        self.drivere.find_element_by_xpath('//*[@id=\"use-alias\"]').click()\n",
    "        time.sleep(3)\n",
    "        self.FakeEmail =self.drivere.find_element_by_xpath('//*[@id=\"email-widget\"]').text #saves to clipboard\n",
    "        # self.drivere.send_keys(Keys.CONTROL, 'v')\n",
    "        print(self.FakeEmail)\n",
    "        time.sleep(10)\n",
    "        self.driverp.find_element_by_xpath(\"/html/body/main/section[2]/p/a\").click()\n",
    "        self.driverp.find_element_by_xpath('//*[@id=\"emailField\"]').send_keys(self.FakeEmail)\n",
    "        self.driverp.find_element_by_xpath('//*[@id=\"submitButton\"]').click()\n",
    "        \n",
    "        \n",
    "        \n",
    "    \n",
    "    #Getters\n",
    "    def get_name(self):\n",
    "        return self.fname + \" \"+ self.lname\n",
    "    def get_lname(self):\n",
    "        return self.lname\n",
    "    def get_fname(self):\n",
    "        return self.fname\n",
    "    def get_username(self):\n",
    "        return self.username\n",
    "    def get_password(self):\n",
    "        return self.password\n",
    "    def get_email(self):\n",
    "        return self.email"
   ]
  },
  {
   "cell_type": "code",
   "execution_count": 120,
   "metadata": {},
   "outputs": [
    {
     "name": "stdout",
     "output_type": "stream",
     "text": [
      "21\n",
      "pabmnvmd@sharklasers.com\n",
      "Email for Mike Mash\n",
      "username is Mike6983908MashV\n",
      "password is hIixzjBJJr@8997986579\n",
      "email is Mike6983908MashV@gmail.com\n"
     ]
    }
   ],
   "source": [
    "email = EmailBot() \n",
    "print(f\"Email for {email.get_name()}\")\n",
    "print(f'username is {email.get_username()}')\n",
    "print(f\"password is {email.get_password()}\")\n",
    "print(f\"email is {email.get_email()}\")"
   ]
  },
  {
   "cell_type": "code",
   "execution_count": null,
   "metadata": {},
   "outputs": [],
   "source": [
    "email.OpenBrowes()\n",
    "email.SignUp()"
   ]
  },
  {
   "cell_type": "code",
   "execution_count": 70,
   "metadata": {},
   "outputs": [
    {
     "name": "stdout",
     "output_type": "stream",
     "text": [
      "26\n"
     ]
    }
   ],
   "source": [
    "print(len(string.ascii_uppercase))"
   ]
  },
  {
   "cell_type": "code",
   "execution_count": null,
   "metadata": {},
   "outputs": [],
   "source": [
    "credit:\n",
    "    Geckodriver #might have problems with moving to a different computer"
   ]
  }
 ],
 "metadata": {
  "kernelspec": {
   "display_name": "Python 3",
   "language": "python",
   "name": "python3"
  },
  "language_info": {
   "codemirror_mode": {
    "name": "ipython",
    "version": 3
   },
   "file_extension": ".py",
   "mimetype": "text/x-python",
   "name": "python",
   "nbconvert_exporter": "python",
   "pygments_lexer": "ipython3",
   "version": "3.7.1"
  }
 },
 "nbformat": 4,
 "nbformat_minor": 2
}
